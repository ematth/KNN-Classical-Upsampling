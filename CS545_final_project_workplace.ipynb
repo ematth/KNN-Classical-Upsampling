{
 "cells": [
  {
   "cell_type": "code",
   "execution_count": null,
   "id": "aeb9a755",
   "metadata": {},
   "outputs": [],
   "source": [
    "import numpy as np\n",
    "import matplotlib.pyplot as plt\n",
    "import cv2\n",
    "from functions.utility import *\n",
    "from functions.sampling import *"
   ]
  },
  {
   "cell_type": "markdown",
   "id": "371fb4af",
   "metadata": {},
   "source": [
    "# Metrics"
   ]
  },
  {
   "cell_type": "code",
   "execution_count": null,
   "id": "345d6d03",
   "metadata": {},
   "outputs": [],
   "source": [
    "from functions.metrics import *\n",
    "\"\"\"\n",
    "Test that metric functions behave as expected for perfect similarity:\n",
    "MSE, MAE, RMSE = 0.\n",
    "PSNR = infinity.\n",
    "SSIM = 1.\n",
    "\"\"\"\n",
    "im = get_im(\"boss_baby.jpg\")\n",
    "\n",
    "all_metrics(im, im)"
   ]
  },
  {
   "cell_type": "markdown",
   "id": "60309a9f",
   "metadata": {},
   "source": [
    "# Test Upsampling\n",
    "\n",
    "QUESTION - We want to upsample while in the [0,1] floating point range, but do we want to convert back to uint8 [0, 255] format before measuring metrics, or stay in floating point range?\n",
    "\n",
    "Answer - we will probably want to convert back to uint8 [0, 255] for the visual aspect, but this will obviously result in some error as we are translating the floating point space into a larger space of values. This will give me a chance to put my numerical analysis skills to use."
   ]
  },
  {
   "cell_type": "code",
   "execution_count": null,
   "id": "24f08030",
   "metadata": {
    "scrolled": true
   },
   "outputs": [],
   "source": [
    "from functions.sampling import *\n",
    "\"\"\"\n",
    "Test upsampling for prepped approach.\n",
    "\"\"\"\n",
    "filename = 'wave.jpg'\n",
    "im = get_im(filename).astype(float) / 255.\n",
    "im = make_even_shape(im)\n",
    "\n",
    "smaller_im = cv2_downsample(im)\n",
    "prepped_im = prep_upsample(smaller_im)\n",
    "\n",
    "upsampled_im = KNN_upsample_prepped(prepped_im, k=1)\n",
    "\n",
    "display_prepped_upsampling_results([im, smaller_im, prepped_im, upsampled_im], path='prep_' + filename)\n",
    "\n",
    "all_metrics(im, upsampled_im)\n",
    "\n",
    "\"\"\"\n",
    "Test upsampling for no-prep approach.\n",
    "\"\"\"\n",
    "im = get_im(filename).astype(float) / 255.\n",
    "im = make_even_shape(im)\n",
    "\n",
    "smaller_im = cv2_downsample(im)\n",
    "\n",
    "upsampled_im = KNN_upsample_no_prep(smaller_im, k=1)\n",
    "\n",
    "display_upsampling_results(smaller_im, upsampled_im, path='up_' + filename)\n",
    "\n",
    "all_metrics(im, upsampled_im)"
   ]
  },
  {
   "cell_type": "code",
   "execution_count": null,
   "id": "497498a8",
   "metadata": {},
   "outputs": [],
   "source": [
    "\"\"\"\n",
    "Test upsampling for no-prep approach with variable factor.\n",
    "\"\"\"\n",
    "im = get_im(filename).astype(float) / 255.\n",
    "im = make_even_shape(im)\n",
    "print(\"Original shape\", im.shape)\n",
    "\n",
    "upsampled_im = KNN_upsample_variable_factor(im, k=1, factor=3)\n",
    "print(\"Result (upsampled) shape\", upsampled_im.shape)\n",
    "\n",
    "display_upsampling_results(im, upsampled_im, path='var_' + filename)\n",
    "\n",
    "# Cannot compute metrics when upsampling to a shape dissimilar from the original image\n",
    "# Perhaps we can use library functions to reshape/resize the orignal image to our target and then compute metrics"
   ]
  },
  {
   "cell_type": "code",
   "execution_count": null,
   "id": "3c244c05",
   "metadata": {},
   "outputs": [],
   "source": [
    "\"\"\"\n",
    "Test upsampling for no-prep approach with variable and dissimilar factors in both dimensions.\n",
    "\"\"\"\n",
    "filename = 'boss_baby.jpg' # remove later\n",
    "im = get_im(filename).astype(float) / 255.\n",
    "im = make_even_shape(im)\n",
    "print(\"Original shape\", im.shape)\n",
    "\n",
    "upsampled_im = KNN_upsample_variable_factors(im, k=2, factor1=2, factor2=4)\n",
    "print(\"Result shape\", upsampled_im.shape)\n",
    "\n",
    "display_upsampling_results(im, upsampled_im, path='dyn_h_' + filename)\n",
    "\n",
    "\n",
    "\n",
    "im = get_im(filename).astype(float) / 255.\n",
    "im = make_even_shape(im)\n",
    "print(\"Original shape\", im.shape)\n",
    "\n",
    "upsampled_im = KNN_upsample_variable_factors(im, k=2, factor1=5, factor2=2)\n",
    "print(\"Result shape\", upsampled_im.shape)\n",
    "\n",
    "display_upsampling_results(im, upsampled_im, path='dyn_v_' + filename)\n",
    "\n",
    "\n",
    "# Cannot compute metrics when upsampling to a shape dissimilar from the original image\n",
    "# We can compute matrics with respect to the aspect ratio being converted"
   ]
  },
  {
   "cell_type": "code",
   "execution_count": null,
   "id": "ec922fd6",
   "metadata": {},
   "outputs": [],
   "source": [
    "\"\"\"\n",
    "Edge detection to confirm locations needing higher upsampling\n",
    "\"\"\"\n",
    "\n",
    "def edgeplot(filename: str) -> None:\n",
    "    im = cv2.imread(filename, cv2.IMREAD_GRAYSCALE)\n",
    "    edges = cv2.Canny(im, 0, 150)\n",
    "    plt.subplot(121); plt.imshow(im, cmap='gray')\n",
    "    plt.subplot(122); plt.imshow(edges, cmap='gray')\n",
    "\n",
    "edgeplot('images/plains.jpg')"
   ]
  },
  {
   "cell_type": "markdown",
   "id": "49217b73",
   "metadata": {},
   "source": []
  },
  {
   "cell_type": "markdown",
   "id": "2392b4de",
   "metadata": {},
   "source": []
  },
  {
   "cell_type": "code",
   "execution_count": null,
   "id": "f5ed3dcc",
   "metadata": {},
   "outputs": [],
   "source": [
    "\"\"\"\n",
    "Create a cascade of downsampled test images, upsample each to original size,\n",
    "then plot metrics.\n",
    "\"\"\"\n",
    "filename = 'no_black_logo.jpg'\n",
    "im = get_im(filename).astype(float) / 255.\n",
    "im = make_even_shape(im)\n",
    "\n",
    "scale_percents = [50, 25, 20, 10]\n",
    "factors = [2, 4, 5, 10]\n",
    "ks = [2, 3, 4, 9]\n",
    "\n",
    "test_ims = []\n",
    "for i in range(len(scale_percents)):\n",
    "    test_ims.append(cv2_downsample(im, scale_percent=scale_percents[i]))\n",
    "\n",
    "res_ims = []\n",
    "for i in range(len(test_ims)):\n",
    "    upsampled_im = KNN_upsample_variable_factor(test_ims[i], k=ks[i], factor=factors[i])\n",
    "    res_ims.append(upsampled_im)\n",
    "    \n",
    "rmses = []\n",
    "psnrs = []\n",
    "ssims = []\n",
    "\n",
    "for i in range(len(res_ims)):\n",
    "    rmses.append(rmse(im, res_ims[i]))\n",
    "    psnrs.append(psnr(im, res_ims[i]))\n",
    "    ssims.append(ssim(im, res_ims[i]))\n",
    "    \n",
    "print(rmses)\n",
    "print(psnrs)\n",
    "print(ssims)"
   ]
  },
  {
   "cell_type": "code",
   "execution_count": null,
   "id": "d22c8781",
   "metadata": {},
   "outputs": [],
   "source": [
    "# Function to convert an image to uint8 for display\n",
    "def to_display(im):\n",
    "    return cv2.convertScaleAbs(im, alpha=(255.0))\n",
    "\n",
    "# Display side-by-side image comparisons\n",
    "n = len(test_ims)\n",
    "fig, axs = plt.subplots(n, 3, figsize=(15, 5 * n))\n",
    "original_im_display = to_display(im)\n",
    "for i in range(n):\n",
    "    test_im_display = to_display(test_ims[i])\n",
    "    res_im_display = to_display(res_ims[i])\n",
    "\n",
    "    axs[i, 0].imshow(cv2.cvtColor(test_im_display, cv2.COLOR_BGR2RGB))\n",
    "    axs[i, 0].set_title(f'Test Image {i+1}')\n",
    "\n",
    "    axs[i, 1].imshow(cv2.cvtColor(res_im_display, cv2.COLOR_BGR2RGB))\n",
    "    axs[i, 1].set_title(f'Upsampled Image {i+1}')\n",
    "    \n",
    "    axs[i, 2].imshow(cv2.cvtColor(original_im_display, cv2.COLOR_BGR2RGB))\n",
    "    axs[i, 2].set_title('Original Im')\n",
    "    \n",
    "plt.show()\n",
    "\n",
    "# Metrics plots\n",
    "fig, axs = plt.subplots(1, 3, figsize=(18, 6))\n",
    "# RMSE Plot\n",
    "axs[0].plot(factors, rmses, 's-', label='RMSE')\n",
    "axs[0].set_xlabel('Upsampling Factor')\n",
    "axs[0].set_ylabel('RMSE Value')\n",
    "axs[0].set_title('RMSE by Upsampling Factor')\n",
    "axs[0].legend()\n",
    "\n",
    "# PSNR Plot\n",
    "axs[1].plot(factors, psnrs, 's-', label='PSNR')\n",
    "axs[1].set_xlabel('Upsampling Factor')\n",
    "axs[1].set_ylabel('PSNR Value')\n",
    "axs[1].set_title('PSNR by Upsampling Factor')\n",
    "axs[1].legend()\n",
    "\n",
    "# SSIM Plot\n",
    "axs[2].plot(factors, ssims, 's-', label='SSIM')\n",
    "axs[2].set_xlabel('Upsampling Factor')\n",
    "axs[2].set_ylabel('SSIM Value')\n",
    "axs[2].get_yaxis().get_major_formatter().set_useOffset(False)\n",
    "axs[2].set_title('SSIM by Upsampling Factor')\n",
    "axs[2].legend()\n",
    "\n",
    "plt.tight_layout()\n",
    "plt.show()"
   ]
  },
  {
   "cell_type": "markdown",
   "id": "d2aa81ce",
   "metadata": {},
   "source": [
    "# Applying Upscaling on Cifar-10 Dataset"
   ]
  },
  {
   "cell_type": "markdown",
   "id": "43047dd9",
   "metadata": {},
   "source": [
    "### Extract dataset from tar file."
   ]
  },
  {
   "cell_type": "code",
   "execution_count": null,
   "id": "944bb647",
   "metadata": {},
   "outputs": [],
   "source": [
    "import tarfile\n",
    "\n",
    "# Replace this with the path to your 'cifar-10-python.tar.gz' file\n",
    "tar_file_path = 'cifar-10-python.tar.gz'\n",
    "\n",
    "# Open the tar file\n",
    "with tarfile.open(tar_file_path, \"r:gz\") as tar:\n",
    "    # Extract all the contents into the current directory\n",
    "    tar.extractall()\n",
    "\n",
    "print(\"Extraction complete.\")"
   ]
  },
  {
   "cell_type": "markdown",
   "id": "9cf1ac97",
   "metadata": {},
   "source": [
    "### Load dataset"
   ]
  },
  {
   "cell_type": "code",
   "execution_count": null,
   "id": "a3bd912c",
   "metadata": {},
   "outputs": [],
   "source": [
    "import pickle\n",
    "import numpy as np\n",
    "import matplotlib.pyplot as plt\n",
    "from PIL import Image\n",
    "\n",
    "def load_cifar10_batch(file):\n",
    "    with open(file, 'rb') as fo:\n",
    "        dict = pickle.load(fo, encoding='bytes')\n",
    "    return dict\n",
    "batch_file = 'cifar-10-batches-py/data_batch_1'\n",
    "batch = load_cifar10_batch(batch_file)\n",
    "\n",
    "# The data key contains a 10000x3072 numpy array of uint8s. \n",
    "# Each row of the array stores a 32x32 color image. \n",
    "# The first 1024 entries contain the red channel values, \n",
    "# the next 1024 the green, and the final 1024 the blue.\n",
    "images = batch[b'data']\n",
    "images = images.reshape(10000, 3, 32, 32).transpose(0, 2, 3, 1).astype(\"uint8\")"
   ]
  },
  {
   "cell_type": "markdown",
   "id": "8deacf43",
   "metadata": {},
   "source": [
    "### Use N images to upsample at varying factors"
   ]
  },
  {
   "cell_type": "code",
   "execution_count": null,
   "id": "c66e685b",
   "metadata": {},
   "outputs": [],
   "source": [
    "from tqdm import tqdm\n",
    "\n",
    "N = 10\n",
    "f2_res = []\n",
    "f4_res = []\n",
    "f8_res = []\n",
    "\n",
    "f4_2_res = []\n",
    "f8_2_res = []\n",
    "for i in tqdm(range(N)):\n",
    "    float_im = images[i].astype(float) / 255\n",
    "    f2_res.append(KNN_upsample_variable_factor(float_im, k=1, factor=2))\n",
    "    f4_res.append(KNN_upsample_variable_factor(float_im, k=3, factor=4))\n",
    "    f8_res.append(KNN_upsample_variable_factor(float_im, k=7, factor=8))\n",
    "    \n",
    "    f4_2_res.append(KNN_upsample_variable_factor(f2_res[-1], k=1, factor=2))\n",
    "    f8_2_res.append(KNN_upsample_variable_factor(f4_2_res[-1], k=1, factor=2))"
   ]
  },
  {
   "cell_type": "markdown",
   "id": "07507131",
   "metadata": {},
   "source": [
    "### Visualize results"
   ]
  },
  {
   "cell_type": "code",
   "execution_count": null,
   "id": "c9732a40",
   "metadata": {},
   "outputs": [],
   "source": [
    "# Display side-by-side image comparisons\n",
    "n = len(upsampled_ims)\n",
    "for i in range(N):\n",
    "    fig, axs = plt.subplots(1, 6, figsize=(25, 5))\n",
    "\n",
    "    axs[0].imshow(images[i])\n",
    "    axs[0].set_title(f'Original Test Image {i+1}')\n",
    "\n",
    "    axs[1].imshow(f2_res[i])\n",
    "    axs[1].set_title('Upsample original (2x)')\n",
    "    \n",
    "    axs[2].imshow(f4_res[i])\n",
    "    axs[2].set_title('Upsample original (4x)')\n",
    "    \n",
    "    axs[3].imshow(f8_res[i])\n",
    "    axs[3].set_title('Upsample original (8x)')\n",
    "    \n",
    "    axs[4].imshow(f4_2_res[i])\n",
    "    axs[4].set_title('Upsample 2x (4x total)')\n",
    "    \n",
    "    axs[5].imshow(f8_2_res[i])\n",
    "    axs[5].set_title('Upsample previous (8x total)')\n",
    "\n",
    "    plt.show()"
   ]
  },
  {
   "cell_type": "code",
   "execution_count": null,
   "id": "dcca7458",
   "metadata": {},
   "outputs": [],
   "source": []
  }
 ],
 "metadata": {
  "kernelspec": {
   "display_name": "Python 3 (ipykernel)",
   "language": "python",
   "name": "python3"
  },
  "language_info": {
   "codemirror_mode": {
    "name": "ipython",
    "version": 3
   },
   "file_extension": ".py",
   "mimetype": "text/x-python",
   "name": "python",
   "nbconvert_exporter": "python",
   "pygments_lexer": "ipython3",
   "version": "3.10.1"
  }
 },
 "nbformat": 4,
 "nbformat_minor": 5
}
